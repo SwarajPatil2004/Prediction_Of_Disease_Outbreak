{
 "cells": [
  {
   "cell_type": "markdown",
   "metadata": {},
   "source": [
    "# 🩺 Diabetes Prediction Using Machine Learning  \n",
    "\n",
    "## 📌 Project Overview  \n",
    "This project utilizes **Machine Learning** to predict whether a person is likely to have **diabetes** based on medical data. It involves **data preprocessing, model training, evaluation, and prediction visualization** using Python.  \n",
    "\n",
    "## 🔍 Workflow  \n",
    "1. **Importing Libraries**: Load necessary Python libraries for data handling, visualization, and model training.  \n",
    "2. **Loading the Dataset**: Read the diabetes dataset and explore its structure.  \n",
    "3. **Data Cleaning & Preprocessing**:  \n",
    "   - Identify and handle missing values.  \n",
    "   - Perform feature scaling for better model performance.  \n",
    "4. **Exploratory Data Analysis (EDA)**:  \n",
    "   - Analyze feature distributions and correlations.  \n",
    "   - Visualize insights using Seaborn and Matplotlib.  \n",
    "5. **Splitting Data**: Divide the dataset into **training and testing sets** for model evaluation.  \n",
    "6. **Training the Model**: Implement classification algorithms (e.g., **Logistic Regression, SVM, Random Forest**) to predict diabetes.  \n",
    "7. **Model Evaluation**: Assess performance using **accuracy, precision, recall, and F1-score**.  \n",
    "8. **Making Predictions**: Use the trained model to classify new patient data.  \n",
    "\n",
    "## 🛠️ Technologies Used  \n",
    "- **Python** (Pandas, NumPy, Matplotlib, Seaborn)  \n",
    "- **Machine Learning** (Scikit-learn: Logistic Regression, SVM, Decision Tree, Random Forest)  \n",
    "- **Data Preprocessing** (Feature Scaling, Handling Missing Values)  \n",
    " \n",
    "---\n",
    "\n",
    "💡 **This project demonstrates how machine learning can be applied in healthcare to assist in early diabetes detection, improving patient outcomes.**\n"
   ]
  },
  {
   "cell_type": "markdown",
   "metadata": {},
   "source": [
    "### Step 1: Importing Libraries  \n",
    "We start by importing essential libraries needed for data handling, visualization, and machine learning:  \n",
    "\n",
    "- **pandas & numpy** → Used for data manipulation and numerical operations.  \n",
    "- **matplotlib & seaborn** → Used for data visualization to understand trends in the dataset.  \n",
    "- **sklearn (scikit-learn)** → Contains functions for splitting the dataset, feature scaling, model training, and evaluation.  \n",
    "\n",
    "Proper library selection ensures efficient data processing, visualization, and predictive modeling.\n"
   ]
  },
  {
   "cell_type": "code",
   "execution_count": 1,
   "metadata": {
    "execution": {
     "iopub.execute_input": "2025-02-09T14:02:47.969044Z",
     "iopub.status.busy": "2025-02-09T14:02:47.968626Z",
     "iopub.status.idle": "2025-02-09T14:02:49.181369Z",
     "shell.execute_reply": "2025-02-09T14:02:49.180008Z",
     "shell.execute_reply.started": "2025-02-09T14:02:47.968979Z"
    },
    "trusted": true
   },
   "outputs": [],
   "source": [
    "import pandas as pd\n",
    "import numpy as np\n",
    "import pickle\n",
    "\n",
    "import matplotlib.pyplot as plt\n",
    "import seaborn as sns\n",
    "\n",
    "from sklearn.ensemble import RandomForestClassifier\n",
    "from sklearn import svm\n",
    "from sklearn.linear_model import LogisticRegression\n",
    "\n",
    "from sklearn.model_selection import train_test_split\n",
    "from sklearn.utils import resample\n",
    "from sklearn.metrics import accuracy_score, classification_report, confusion_matrix, ConfusionMatrixDisplay"
   ]
  },
  {
   "cell_type": "markdown",
   "metadata": {},
   "source": [
    "### Step 2: Loading the Dataset  \n",
    "We load the diabetes dataset using Pandas and inspect its structure using `.head()`.  \n",
    "\n",
    "- This helps us understand the **columns, data types, and possible issues** (like missing values or incorrect data types).  \n",
    "- Checking the first few rows gives an idea of how features are formatted and whether preprocessing is needed."
   ]
  },
  {
   "cell_type": "code",
   "execution_count": 2,
   "metadata": {
    "execution": {
     "iopub.execute_input": "2025-02-09T14:02:49.183311Z",
     "iopub.status.busy": "2025-02-09T14:02:49.182572Z",
     "iopub.status.idle": "2025-02-09T14:02:49.208210Z",
     "shell.execute_reply": "2025-02-09T14:02:49.206901Z",
     "shell.execute_reply.started": "2025-02-09T14:02:49.183270Z"
    },
    "trusted": true
   },
   "outputs": [],
   "source": [
    "diabetes_data= pd.read_csv(\"../Datasets/diabetes.csv\")"
   ]
  },
  {
   "cell_type": "code",
   "execution_count": 3,
   "metadata": {
    "execution": {
     "iopub.execute_input": "2025-02-09T14:02:49.211623Z",
     "iopub.status.busy": "2025-02-09T14:02:49.211290Z",
     "iopub.status.idle": "2025-02-09T14:02:49.231053Z",
     "shell.execute_reply": "2025-02-09T14:02:49.229644Z",
     "shell.execute_reply.started": "2025-02-09T14:02:49.211594Z"
    },
    "trusted": true
   },
   "outputs": [
    {
     "data": {
      "text/html": [
       "<div>\n",
       "<style scoped>\n",
       "    .dataframe tbody tr th:only-of-type {\n",
       "        vertical-align: middle;\n",
       "    }\n",
       "\n",
       "    .dataframe tbody tr th {\n",
       "        vertical-align: top;\n",
       "    }\n",
       "\n",
       "    .dataframe thead th {\n",
       "        text-align: right;\n",
       "    }\n",
       "</style>\n",
       "<table border=\"1\" class=\"dataframe\">\n",
       "  <thead>\n",
       "    <tr style=\"text-align: right;\">\n",
       "      <th></th>\n",
       "      <th>Pregnancies</th>\n",
       "      <th>Glucose</th>\n",
       "      <th>BloodPressure</th>\n",
       "      <th>SkinThickness</th>\n",
       "      <th>Insulin</th>\n",
       "      <th>BMI</th>\n",
       "      <th>DiabetesPedigreeFunction</th>\n",
       "      <th>Age</th>\n",
       "      <th>Outcome</th>\n",
       "    </tr>\n",
       "  </thead>\n",
       "  <tbody>\n",
       "    <tr>\n",
       "      <th>0</th>\n",
       "      <td>6</td>\n",
       "      <td>148</td>\n",
       "      <td>72</td>\n",
       "      <td>35</td>\n",
       "      <td>0</td>\n",
       "      <td>33.6</td>\n",
       "      <td>0.627</td>\n",
       "      <td>50</td>\n",
       "      <td>1</td>\n",
       "    </tr>\n",
       "    <tr>\n",
       "      <th>1</th>\n",
       "      <td>1</td>\n",
       "      <td>85</td>\n",
       "      <td>66</td>\n",
       "      <td>29</td>\n",
       "      <td>0</td>\n",
       "      <td>26.6</td>\n",
       "      <td>0.351</td>\n",
       "      <td>31</td>\n",
       "      <td>0</td>\n",
       "    </tr>\n",
       "    <tr>\n",
       "      <th>2</th>\n",
       "      <td>8</td>\n",
       "      <td>183</td>\n",
       "      <td>64</td>\n",
       "      <td>0</td>\n",
       "      <td>0</td>\n",
       "      <td>23.3</td>\n",
       "      <td>0.672</td>\n",
       "      <td>32</td>\n",
       "      <td>1</td>\n",
       "    </tr>\n",
       "    <tr>\n",
       "      <th>3</th>\n",
       "      <td>1</td>\n",
       "      <td>89</td>\n",
       "      <td>66</td>\n",
       "      <td>23</td>\n",
       "      <td>94</td>\n",
       "      <td>28.1</td>\n",
       "      <td>0.167</td>\n",
       "      <td>21</td>\n",
       "      <td>0</td>\n",
       "    </tr>\n",
       "    <tr>\n",
       "      <th>4</th>\n",
       "      <td>0</td>\n",
       "      <td>137</td>\n",
       "      <td>40</td>\n",
       "      <td>35</td>\n",
       "      <td>168</td>\n",
       "      <td>43.1</td>\n",
       "      <td>2.288</td>\n",
       "      <td>33</td>\n",
       "      <td>1</td>\n",
       "    </tr>\n",
       "    <tr>\n",
       "      <th>5</th>\n",
       "      <td>5</td>\n",
       "      <td>116</td>\n",
       "      <td>74</td>\n",
       "      <td>0</td>\n",
       "      <td>0</td>\n",
       "      <td>25.6</td>\n",
       "      <td>0.201</td>\n",
       "      <td>30</td>\n",
       "      <td>0</td>\n",
       "    </tr>\n",
       "    <tr>\n",
       "      <th>6</th>\n",
       "      <td>3</td>\n",
       "      <td>78</td>\n",
       "      <td>50</td>\n",
       "      <td>32</td>\n",
       "      <td>88</td>\n",
       "      <td>31.0</td>\n",
       "      <td>0.248</td>\n",
       "      <td>26</td>\n",
       "      <td>1</td>\n",
       "    </tr>\n",
       "    <tr>\n",
       "      <th>7</th>\n",
       "      <td>10</td>\n",
       "      <td>115</td>\n",
       "      <td>0</td>\n",
       "      <td>0</td>\n",
       "      <td>0</td>\n",
       "      <td>35.3</td>\n",
       "      <td>0.134</td>\n",
       "      <td>29</td>\n",
       "      <td>0</td>\n",
       "    </tr>\n",
       "    <tr>\n",
       "      <th>8</th>\n",
       "      <td>2</td>\n",
       "      <td>197</td>\n",
       "      <td>70</td>\n",
       "      <td>45</td>\n",
       "      <td>543</td>\n",
       "      <td>30.5</td>\n",
       "      <td>0.158</td>\n",
       "      <td>53</td>\n",
       "      <td>1</td>\n",
       "    </tr>\n",
       "    <tr>\n",
       "      <th>9</th>\n",
       "      <td>8</td>\n",
       "      <td>125</td>\n",
       "      <td>96</td>\n",
       "      <td>0</td>\n",
       "      <td>0</td>\n",
       "      <td>0.0</td>\n",
       "      <td>0.232</td>\n",
       "      <td>54</td>\n",
       "      <td>1</td>\n",
       "    </tr>\n",
       "  </tbody>\n",
       "</table>\n",
       "</div>"
      ],
      "text/plain": [
       "   Pregnancies  Glucose  BloodPressure  SkinThickness  Insulin   BMI  \\\n",
       "0            6      148             72             35        0  33.6   \n",
       "1            1       85             66             29        0  26.6   \n",
       "2            8      183             64              0        0  23.3   \n",
       "3            1       89             66             23       94  28.1   \n",
       "4            0      137             40             35      168  43.1   \n",
       "5            5      116             74              0        0  25.6   \n",
       "6            3       78             50             32       88  31.0   \n",
       "7           10      115              0              0        0  35.3   \n",
       "8            2      197             70             45      543  30.5   \n",
       "9            8      125             96              0        0   0.0   \n",
       "\n",
       "   DiabetesPedigreeFunction  Age  Outcome  \n",
       "0                     0.627   50        1  \n",
       "1                     0.351   31        0  \n",
       "2                     0.672   32        1  \n",
       "3                     0.167   21        0  \n",
       "4                     2.288   33        1  \n",
       "5                     0.201   30        0  \n",
       "6                     0.248   26        1  \n",
       "7                     0.134   29        0  \n",
       "8                     0.158   53        1  \n",
       "9                     0.232   54        1  "
      ]
     },
     "execution_count": 3,
     "metadata": {},
     "output_type": "execute_result"
    }
   ],
   "source": [
    "diabetes_data.head(10)"
   ]
  },
  {
   "cell_type": "code",
   "execution_count": 4,
   "metadata": {
    "execution": {
     "iopub.execute_input": "2025-02-09T14:02:49.233771Z",
     "iopub.status.busy": "2025-02-09T14:02:49.233365Z",
     "iopub.status.idle": "2025-02-09T14:02:49.248151Z",
     "shell.execute_reply": "2025-02-09T14:02:49.246787Z",
     "shell.execute_reply.started": "2025-02-09T14:02:49.233734Z"
    },
    "trusted": true
   },
   "outputs": [
    {
     "name": "stdout",
     "output_type": "stream",
     "text": [
      "<class 'pandas.core.frame.DataFrame'>\n",
      "RangeIndex: 768 entries, 0 to 767\n",
      "Data columns (total 9 columns):\n",
      " #   Column                    Non-Null Count  Dtype  \n",
      "---  ------                    --------------  -----  \n",
      " 0   Pregnancies               768 non-null    int64  \n",
      " 1   Glucose                   768 non-null    int64  \n",
      " 2   BloodPressure             768 non-null    int64  \n",
      " 3   SkinThickness             768 non-null    int64  \n",
      " 4   Insulin                   768 non-null    int64  \n",
      " 5   BMI                       768 non-null    float64\n",
      " 6   DiabetesPedigreeFunction  768 non-null    float64\n",
      " 7   Age                       768 non-null    int64  \n",
      " 8   Outcome                   768 non-null    int64  \n",
      "dtypes: float64(2), int64(7)\n",
      "memory usage: 54.1 KB\n"
     ]
    }
   ],
   "source": [
    "diabetes_data.info()"
   ]
  },
  {
   "cell_type": "code",
   "execution_count": 5,
   "metadata": {
    "execution": {
     "iopub.execute_input": "2025-02-09T14:02:49.250062Z",
     "iopub.status.busy": "2025-02-09T14:02:49.249607Z",
     "iopub.status.idle": "2025-02-09T14:02:49.296203Z",
     "shell.execute_reply": "2025-02-09T14:02:49.295153Z",
     "shell.execute_reply.started": "2025-02-09T14:02:49.250020Z"
    },
    "trusted": true
   },
   "outputs": [
    {
     "data": {
      "text/html": [
       "<div>\n",
       "<style scoped>\n",
       "    .dataframe tbody tr th:only-of-type {\n",
       "        vertical-align: middle;\n",
       "    }\n",
       "\n",
       "    .dataframe tbody tr th {\n",
       "        vertical-align: top;\n",
       "    }\n",
       "\n",
       "    .dataframe thead th {\n",
       "        text-align: right;\n",
       "    }\n",
       "</style>\n",
       "<table border=\"1\" class=\"dataframe\">\n",
       "  <thead>\n",
       "    <tr style=\"text-align: right;\">\n",
       "      <th></th>\n",
       "      <th>Pregnancies</th>\n",
       "      <th>Glucose</th>\n",
       "      <th>BloodPressure</th>\n",
       "      <th>SkinThickness</th>\n",
       "      <th>Insulin</th>\n",
       "      <th>BMI</th>\n",
       "      <th>DiabetesPedigreeFunction</th>\n",
       "      <th>Age</th>\n",
       "      <th>Outcome</th>\n",
       "    </tr>\n",
       "  </thead>\n",
       "  <tbody>\n",
       "    <tr>\n",
       "      <th>count</th>\n",
       "      <td>768.000000</td>\n",
       "      <td>768.000000</td>\n",
       "      <td>768.000000</td>\n",
       "      <td>768.000000</td>\n",
       "      <td>768.000000</td>\n",
       "      <td>768.000000</td>\n",
       "      <td>768.000000</td>\n",
       "      <td>768.000000</td>\n",
       "      <td>768.000000</td>\n",
       "    </tr>\n",
       "    <tr>\n",
       "      <th>mean</th>\n",
       "      <td>3.845052</td>\n",
       "      <td>120.894531</td>\n",
       "      <td>69.105469</td>\n",
       "      <td>20.536458</td>\n",
       "      <td>79.799479</td>\n",
       "      <td>31.992578</td>\n",
       "      <td>0.471876</td>\n",
       "      <td>33.240885</td>\n",
       "      <td>0.348958</td>\n",
       "    </tr>\n",
       "    <tr>\n",
       "      <th>std</th>\n",
       "      <td>3.369578</td>\n",
       "      <td>31.972618</td>\n",
       "      <td>19.355807</td>\n",
       "      <td>15.952218</td>\n",
       "      <td>115.244002</td>\n",
       "      <td>7.884160</td>\n",
       "      <td>0.331329</td>\n",
       "      <td>11.760232</td>\n",
       "      <td>0.476951</td>\n",
       "    </tr>\n",
       "    <tr>\n",
       "      <th>min</th>\n",
       "      <td>0.000000</td>\n",
       "      <td>0.000000</td>\n",
       "      <td>0.000000</td>\n",
       "      <td>0.000000</td>\n",
       "      <td>0.000000</td>\n",
       "      <td>0.000000</td>\n",
       "      <td>0.078000</td>\n",
       "      <td>21.000000</td>\n",
       "      <td>0.000000</td>\n",
       "    </tr>\n",
       "    <tr>\n",
       "      <th>25%</th>\n",
       "      <td>1.000000</td>\n",
       "      <td>99.000000</td>\n",
       "      <td>62.000000</td>\n",
       "      <td>0.000000</td>\n",
       "      <td>0.000000</td>\n",
       "      <td>27.300000</td>\n",
       "      <td>0.243750</td>\n",
       "      <td>24.000000</td>\n",
       "      <td>0.000000</td>\n",
       "    </tr>\n",
       "    <tr>\n",
       "      <th>50%</th>\n",
       "      <td>3.000000</td>\n",
       "      <td>117.000000</td>\n",
       "      <td>72.000000</td>\n",
       "      <td>23.000000</td>\n",
       "      <td>30.500000</td>\n",
       "      <td>32.000000</td>\n",
       "      <td>0.372500</td>\n",
       "      <td>29.000000</td>\n",
       "      <td>0.000000</td>\n",
       "    </tr>\n",
       "    <tr>\n",
       "      <th>75%</th>\n",
       "      <td>6.000000</td>\n",
       "      <td>140.250000</td>\n",
       "      <td>80.000000</td>\n",
       "      <td>32.000000</td>\n",
       "      <td>127.250000</td>\n",
       "      <td>36.600000</td>\n",
       "      <td>0.626250</td>\n",
       "      <td>41.000000</td>\n",
       "      <td>1.000000</td>\n",
       "    </tr>\n",
       "    <tr>\n",
       "      <th>max</th>\n",
       "      <td>17.000000</td>\n",
       "      <td>199.000000</td>\n",
       "      <td>122.000000</td>\n",
       "      <td>99.000000</td>\n",
       "      <td>846.000000</td>\n",
       "      <td>67.100000</td>\n",
       "      <td>2.420000</td>\n",
       "      <td>81.000000</td>\n",
       "      <td>1.000000</td>\n",
       "    </tr>\n",
       "  </tbody>\n",
       "</table>\n",
       "</div>"
      ],
      "text/plain": [
       "       Pregnancies     Glucose  BloodPressure  SkinThickness     Insulin  \\\n",
       "count   768.000000  768.000000     768.000000     768.000000  768.000000   \n",
       "mean      3.845052  120.894531      69.105469      20.536458   79.799479   \n",
       "std       3.369578   31.972618      19.355807      15.952218  115.244002   \n",
       "min       0.000000    0.000000       0.000000       0.000000    0.000000   \n",
       "25%       1.000000   99.000000      62.000000       0.000000    0.000000   \n",
       "50%       3.000000  117.000000      72.000000      23.000000   30.500000   \n",
       "75%       6.000000  140.250000      80.000000      32.000000  127.250000   \n",
       "max      17.000000  199.000000     122.000000      99.000000  846.000000   \n",
       "\n",
       "              BMI  DiabetesPedigreeFunction         Age     Outcome  \n",
       "count  768.000000                768.000000  768.000000  768.000000  \n",
       "mean    31.992578                  0.471876   33.240885    0.348958  \n",
       "std      7.884160                  0.331329   11.760232    0.476951  \n",
       "min      0.000000                  0.078000   21.000000    0.000000  \n",
       "25%     27.300000                  0.243750   24.000000    0.000000  \n",
       "50%     32.000000                  0.372500   29.000000    0.000000  \n",
       "75%     36.600000                  0.626250   41.000000    1.000000  \n",
       "max     67.100000                  2.420000   81.000000    1.000000  "
      ]
     },
     "execution_count": 5,
     "metadata": {},
     "output_type": "execute_result"
    }
   ],
   "source": [
    "diabetes_data.describe()"
   ]
  },
  {
   "cell_type": "markdown",
   "metadata": {},
   "source": [
    "### Step 3: Data Cleaning  \n",
    "Before training a model, it's crucial to ensure **data completeness**.  \n",
    "\n",
    "- Missing or zero values can mislead the model, reducing its predictive accuracy.  \n",
    "- Some features, such as **Blood Pressure, BMI, Insulin**, should not contain zero values because they are medically significant.  \n",
    "- We use `.isnull().sum()` and `.describe()` to identify potential anomalies in the dataset.  \n"
   ]
  },
  {
   "cell_type": "code",
   "execution_count": 6,
   "metadata": {
    "execution": {
     "iopub.execute_input": "2025-02-09T14:02:49.297588Z",
     "iopub.status.busy": "2025-02-09T14:02:49.297227Z",
     "iopub.status.idle": "2025-02-09T14:02:49.308907Z",
     "shell.execute_reply": "2025-02-09T14:02:49.307062Z",
     "shell.execute_reply.started": "2025-02-09T14:02:49.297547Z"
    },
    "trusted": true
   },
   "outputs": [],
   "source": [
    "columns_to_replace = [\"Glucose\", \"BloodPressure\", \"SkinThickness\", \"Insulin\", \"BMI\"]\n",
    "diabetes_data[columns_to_replace] = diabetes_data[columns_to_replace].replace(0, np.nan)"
   ]
  },
  {
   "cell_type": "code",
   "execution_count": 7,
   "metadata": {
    "execution": {
     "iopub.execute_input": "2025-02-09T14:02:49.310140Z",
     "iopub.status.busy": "2025-02-09T14:02:49.309803Z",
     "iopub.status.idle": "2025-02-09T14:02:49.322624Z",
     "shell.execute_reply": "2025-02-09T14:02:49.321404Z",
     "shell.execute_reply.started": "2025-02-09T14:02:49.310110Z"
    },
    "trusted": true
   },
   "outputs": [
    {
     "data": {
      "text/plain": [
       "Pregnancies                   0\n",
       "Glucose                       5\n",
       "BloodPressure                35\n",
       "SkinThickness               227\n",
       "Insulin                     374\n",
       "BMI                          11\n",
       "DiabetesPedigreeFunction      0\n",
       "Age                           0\n",
       "Outcome                       0\n",
       "dtype: int64"
      ]
     },
     "execution_count": 7,
     "metadata": {},
     "output_type": "execute_result"
    }
   ],
   "source": [
    "diabetes_data.isnull().sum()"
   ]
  },
  {
   "cell_type": "markdown",
   "metadata": {},
   "source": [
    "### Step 4: Checking for Skewness in Data  \n",
    "- **Why check for skewness?** Skewed data can cause bias in machine learning models, especially when features are used in probability-based algorithms.  \n",
    "- **How to detect skewness?** Using `.skew()` function or histograms, we determine whether numerical columns have **highly skewed distributions**.  \n",
    "- **Impact of skewed data**: If a feature is **highly skewed**, it may need **log transformation** or median imputation to balance its effect on the model.  \n"
   ]
  },
  {
   "cell_type": "code",
   "execution_count": 8,
   "metadata": {
    "execution": {
     "iopub.execute_input": "2025-02-09T14:02:49.324186Z",
     "iopub.status.busy": "2025-02-09T14:02:49.323807Z",
     "iopub.status.idle": "2025-02-09T14:02:49.345986Z",
     "shell.execute_reply": "2025-02-09T14:02:49.344746Z",
     "shell.execute_reply.started": "2025-02-09T14:02:49.324155Z"
    },
    "trusted": true
   },
   "outputs": [
    {
     "data": {
      "text/plain": [
       "Pregnancies                 0.901674\n",
       "Glucose                     0.530989\n",
       "BloodPressure               0.134153\n",
       "SkinThickness               0.690619\n",
       "Insulin                     2.166464\n",
       "BMI                         0.593970\n",
       "DiabetesPedigreeFunction    1.919911\n",
       "Age                         1.129597\n",
       "Outcome                     0.635017\n",
       "dtype: float64"
      ]
     },
     "execution_count": 8,
     "metadata": {},
     "output_type": "execute_result"
    }
   ],
   "source": [
    "diabetes_data.skew()"
   ]
  },
  {
   "cell_type": "code",
   "execution_count": 9,
   "metadata": {
    "execution": {
     "iopub.execute_input": "2025-02-09T14:02:49.347494Z",
     "iopub.status.busy": "2025-02-09T14:02:49.347144Z",
     "iopub.status.idle": "2025-02-09T14:02:51.143994Z",
     "shell.execute_reply": "2025-02-09T14:02:51.142738Z",
     "shell.execute_reply.started": "2025-02-09T14:02:49.347463Z"
    },
    "trusted": true
   },
   "outputs": [
    {
     "data": {
      "image/png": "[encoded data removed]",
      "text/plain": [
       "<Figure size 800x1200 with 9 Axes>"
      ]
     },
     "metadata": {},
     "output_type": "display_data"
    }
   ],
   "source": [
    "diabetes_data.hist(figsize=(8,12), bins=20)\n",
    "plt.show()"
   ]
  },
  {
   "cell_type": "code",
   "execution_count": 10,
   "metadata": {
    "execution": {
     "iopub.execute_input": "2025-02-09T14:02:51.145746Z",
     "iopub.status.busy": "2025-02-09T14:02:51.145307Z",
     "iopub.status.idle": "2025-02-09T14:02:51.392188Z",
     "shell.execute_reply": "2025-02-09T14:02:51.391035Z",
     "shell.execute_reply.started": "2025-02-09T14:02:51.145701Z"
    },
    "trusted": true
   },
   "outputs": [
    {
     "data": {
      "image/png": "[encoded data removed]",
      "text/plain": [
       "<Figure size 640x480 with 1 Axes>"
      ]
     },
     "metadata": {},
     "output_type": "display_data"
    }
   ],
   "source": [
    "sns.boxplot(data=diabetes_data)\n",
    "plt.xticks(rotation=90)  # Rotate labels if needed\n",
    "plt.show()"
   ]
  },
  {
   "cell_type": "code",
   "execution_count": 11,
   "metadata": {
    "execution": {
     "iopub.execute_input": "2025-02-09T14:02:51.393612Z",
     "iopub.status.busy": "2025-02-09T14:02:51.393296Z",
     "iopub.status.idle": "2025-02-09T14:02:51.401485Z",
     "shell.execute_reply": "2025-02-09T14:02:51.400480Z",
     "shell.execute_reply.started": "2025-02-09T14:02:51.393583Z"
    },
    "trusted": true
   },
   "outputs": [
    {
     "data": {
      "text/plain": [
       "Outcome\n",
       "0    500\n",
       "1    268\n",
       "Name: count, dtype: int64"
      ]
     },
     "execution_count": 11,
     "metadata": {},
     "output_type": "execute_result"
    }
   ],
   "source": [
    "diabetes_data[\"Outcome\"].value_counts()"
   ]
  },
  {
   "cell_type": "markdown",
   "metadata": {},
   "source": [
    "### Step 5: Handling Missing/Zero Values  \n",
    "Since some medical parameters should never be zero, we replace **zero values with median values** for these features:  \n",
    "\n",
    "- **Glucose**  \n",
    "- **Blood Pressure**  \n",
    "- **Skin Thickness**  \n",
    "- **Insulin**  \n",
    "- **BMI**  \n",
    "\n",
    "We use the **median** instead of the **mean** because:  \n",
    "✅ **Median is robust** to outliers.  \n",
    "✅ **Mean can be affected** by extreme values, leading to misleading imputation.  \n",
    "\n",
    "This step ensures that our model **learns from realistic patient data** rather than being influenced by incorrect zero values.  \n"
   ]
  },
  {
   "cell_type": "code",
   "execution_count": 12,
   "metadata": {
    "execution": {
     "iopub.execute_input": "2025-02-09T14:02:51.406415Z",
     "iopub.status.busy": "2025-02-09T14:02:51.406026Z",
     "iopub.status.idle": "2025-02-09T14:02:51.422835Z",
     "shell.execute_reply": "2025-02-09T14:02:51.421560Z",
     "shell.execute_reply.started": "2025-02-09T14:02:51.406373Z"
    },
    "trusted": true
   },
   "outputs": [],
   "source": [
    "diabetes_data[columns_to_replace] = diabetes_data[columns_to_replace].fillna(diabetes_data[columns_to_replace].median())"
   ]
  },
  {
   "cell_type": "code",
   "execution_count": 13,
   "metadata": {
    "execution": {
     "iopub.execute_input": "2025-02-09T14:02:51.425407Z",
     "iopub.status.busy": "2025-02-09T14:02:51.425086Z",
     "iopub.status.idle": "2025-02-09T14:02:51.442549Z",
     "shell.execute_reply": "2025-02-09T14:02:51.441410Z",
     "shell.execute_reply.started": "2025-02-09T14:02:51.425377Z"
    },
    "trusted": true
   },
   "outputs": [
    {
     "name": "stdout",
     "output_type": "stream",
     "text": [
      "Pregnancies                 0\n",
      "Glucose                     0\n",
      "BloodPressure               0\n",
      "SkinThickness               0\n",
      "Insulin                     0\n",
      "BMI                         0\n",
      "DiabetesPedigreeFunction    0\n",
      "Age                         0\n",
      "Outcome                     0\n",
      "dtype: int64\n"
     ]
    }
   ],
   "source": [
    "print(diabetes_data.isnull().sum())"
   ]
  },
  {
   "cell_type": "code",
   "execution_count": 14,
   "metadata": {
    "execution": {
     "iopub.execute_input": "2025-02-09T14:02:51.443668Z",
     "iopub.status.busy": "2025-02-09T14:02:51.443388Z",
     "iopub.status.idle": "2025-02-09T14:02:51.492112Z",
     "shell.execute_reply": "2025-02-09T14:02:51.490990Z",
     "shell.execute_reply.started": "2025-02-09T14:02:51.443643Z"
    },
    "trusted": true
   },
   "outputs": [
    {
     "data": {
      "text/html": [
       "<div>\n",
       "<style scoped>\n",
       "    .dataframe tbody tr th:only-of-type {\n",
       "        vertical-align: middle;\n",
       "    }\n",
       "\n",
       "    .dataframe tbody tr th {\n",
       "        vertical-align: top;\n",
       "    }\n",
       "\n",
       "    .dataframe thead th {\n",
       "        text-align: right;\n",
       "    }\n",
       "</style>\n",
       "<table border=\"1\" class=\"dataframe\">\n",
       "  <thead>\n",
       "    <tr style=\"text-align: right;\">\n",
       "      <th></th>\n",
       "      <th>Pregnancies</th>\n",
       "      <th>Glucose</th>\n",
       "      <th>BloodPressure</th>\n",
       "      <th>SkinThickness</th>\n",
       "      <th>Insulin</th>\n",
       "      <th>BMI</th>\n",
       "      <th>DiabetesPedigreeFunction</th>\n",
       "      <th>Age</th>\n",
       "      <th>Outcome</th>\n",
       "    </tr>\n",
       "  </thead>\n",
       "  <tbody>\n",
       "    <tr>\n",
       "      <th>count</th>\n",
       "      <td>768.000000</td>\n",
       "      <td>768.000000</td>\n",
       "      <td>768.000000</td>\n",
       "      <td>768.000000</td>\n",
       "      <td>768.000000</td>\n",
       "      <td>768.000000</td>\n",
       "      <td>768.000000</td>\n",
       "      <td>768.000000</td>\n",
       "      <td>768.000000</td>\n",
       "    </tr>\n",
       "    <tr>\n",
       "      <th>mean</th>\n",
       "      <td>3.845052</td>\n",
       "      <td>121.656250</td>\n",
       "      <td>72.386719</td>\n",
       "      <td>29.108073</td>\n",
       "      <td>140.671875</td>\n",
       "      <td>32.455208</td>\n",
       "      <td>0.471876</td>\n",
       "      <td>33.240885</td>\n",
       "      <td>0.348958</td>\n",
       "    </tr>\n",
       "    <tr>\n",
       "      <th>std</th>\n",
       "      <td>3.369578</td>\n",
       "      <td>30.438286</td>\n",
       "      <td>12.096642</td>\n",
       "      <td>8.791221</td>\n",
       "      <td>86.383060</td>\n",
       "      <td>6.875177</td>\n",
       "      <td>0.331329</td>\n",
       "      <td>11.760232</td>\n",
       "      <td>0.476951</td>\n",
       "    </tr>\n",
       "    <tr>\n",
       "      <th>min</th>\n",
       "      <td>0.000000</td>\n",
       "      <td>44.000000</td>\n",
       "      <td>24.000000</td>\n",
       "      <td>7.000000</td>\n",
       "      <td>14.000000</td>\n",
       "      <td>18.200000</td>\n",
       "      <td>0.078000</td>\n",
       "      <td>21.000000</td>\n",
       "      <td>0.000000</td>\n",
       "    </tr>\n",
       "    <tr>\n",
       "      <th>25%</th>\n",
       "      <td>1.000000</td>\n",
       "      <td>99.750000</td>\n",
       "      <td>64.000000</td>\n",
       "      <td>25.000000</td>\n",
       "      <td>121.500000</td>\n",
       "      <td>27.500000</td>\n",
       "      <td>0.243750</td>\n",
       "      <td>24.000000</td>\n",
       "      <td>0.000000</td>\n",
       "    </tr>\n",
       "    <tr>\n",
       "      <th>50%</th>\n",
       "      <td>3.000000</td>\n",
       "      <td>117.000000</td>\n",
       "      <td>72.000000</td>\n",
       "      <td>29.000000</td>\n",
       "      <td>125.000000</td>\n",
       "      <td>32.300000</td>\n",
       "      <td>0.372500</td>\n",
       "      <td>29.000000</td>\n",
       "      <td>0.000000</td>\n",
       "    </tr>\n",
       "    <tr>\n",
       "      <th>75%</th>\n",
       "      <td>6.000000</td>\n",
       "      <td>140.250000</td>\n",
       "      <td>80.000000</td>\n",
       "      <td>32.000000</td>\n",
       "      <td>127.250000</td>\n",
       "      <td>36.600000</td>\n",
       "      <td>0.626250</td>\n",
       "      <td>41.000000</td>\n",
       "      <td>1.000000</td>\n",
       "    </tr>\n",
       "    <tr>\n",
       "      <th>max</th>\n",
       "      <td>17.000000</td>\n",
       "      <td>199.000000</td>\n",
       "      <td>122.000000</td>\n",
       "      <td>99.000000</td>\n",
       "      <td>846.000000</td>\n",
       "      <td>67.100000</td>\n",
       "      <td>2.420000</td>\n",
       "      <td>81.000000</td>\n",
       "      <td>1.000000</td>\n",
       "    </tr>\n",
       "  </tbody>\n",
       "</table>\n",
       "</div>"
      ],
      "text/plain": [
       "       Pregnancies     Glucose  BloodPressure  SkinThickness     Insulin  \\\n",
       "count   768.000000  768.000000     768.000000     768.000000  768.000000   \n",
       "mean      3.845052  121.656250      72.386719      29.108073  140.671875   \n",
       "std       3.369578   30.438286      12.096642       8.791221   86.383060   \n",
       "min       0.000000   44.000000      24.000000       7.000000   14.000000   \n",
       "25%       1.000000   99.750000      64.000000      25.000000  121.500000   \n",
       "50%       3.000000  117.000000      72.000000      29.000000  125.000000   \n",
       "75%       6.000000  140.250000      80.000000      32.000000  127.250000   \n",
       "max      17.000000  199.000000     122.000000      99.000000  846.000000   \n",
       "\n",
       "              BMI  DiabetesPedigreeFunction         Age     Outcome  \n",
       "count  768.000000                768.000000  768.000000  768.000000  \n",
       "mean    32.455208                  0.471876   33.240885    0.348958  \n",
       "std      6.875177                  0.331329   11.760232    0.476951  \n",
       "min     18.200000                  0.078000   21.000000    0.000000  \n",
       "25%     27.500000                  0.243750   24.000000    0.000000  \n",
       "50%     32.300000                  0.372500   29.000000    0.000000  \n",
       "75%     36.600000                  0.626250   41.000000    1.000000  \n",
       "max     67.100000                  2.420000   81.000000    1.000000  "
      ]
     },
     "execution_count": 14,
     "metadata": {},
     "output_type": "execute_result"
    }
   ],
   "source": [
    "diabetes_data.describe()"
   ]
  },
  {
   "cell_type": "markdown",
   "metadata": {},
   "source": [
    "### Step 6: Handling Class Imbalance (Why Upsample?)  \n",
    "Our dataset is **imbalanced**:  \n",
    "\n",
    "- **Class 0 (Non-Diabetic): 500 samples**  \n",
    "- **Class 1 (Diabetic): 268 samples**  \n",
    "\n",
    "Since machine learning models tend to favor the majority class, we apply **Random Oversampling** to balance the dataset:  \n",
    "\n",
    "- **Why not undersampling?** Reducing the majority class means losing important data.  \n",
    "- **Why upsampling?** It generates synthetic samples for the minority class, helping the model learn from balanced data.  \n",
    "\n",
    "We use `resample()` from `sklearn.utils` to duplicate samples from Class 1 until both classes have equal representation.  \n"
   ]
  },
  {
   "cell_type": "code",
   "execution_count": 15,
   "metadata": {
    "execution": {
     "iopub.execute_input": "2025-02-09T14:02:51.493537Z",
     "iopub.status.busy": "2025-02-09T14:02:51.493224Z",
     "iopub.status.idle": "2025-02-09T14:02:51.514873Z",
     "shell.execute_reply": "2025-02-09T14:02:51.513773Z",
     "shell.execute_reply.started": "2025-02-09T14:02:51.493508Z"
    },
    "trusted": true
   },
   "outputs": [
    {
     "name": "stdout",
     "output_type": "stream",
     "text": [
      "   Pregnancies  Glucose  BloodPressure  SkinThickness  Insulin   BMI  \\\n",
      "0            0    135.0           68.0           42.0    250.0  42.3   \n",
      "1            1    122.0           64.0           32.0    156.0  35.1   \n",
      "2           10    115.0           72.0           29.0    125.0  35.3   \n",
      "3            7    178.0           84.0           29.0    125.0  39.9   \n",
      "4            2    141.0           58.0           34.0    128.0  25.4   \n",
      "5            8    188.0           78.0           29.0    125.0  47.9   \n",
      "6            6     96.0           72.0           29.0    125.0  23.7   \n",
      "7           13    129.0           72.0           30.0    125.0  39.9   \n",
      "8            5    116.0           74.0           29.0    125.0  32.3   \n",
      "9            1     90.0           62.0           12.0     43.0  27.2   \n",
      "\n",
      "   DiabetesPedigreeFunction  Age  Outcome  \n",
      "0                     0.365   24        1  \n",
      "1                     0.692   30        1  \n",
      "2                     0.134   29        0  \n",
      "3                     0.331   41        1  \n",
      "4                     0.699   24        0  \n",
      "5                     0.137   43        1  \n",
      "6                     0.190   28        0  \n",
      "7                     0.569   44        1  \n",
      "8                     0.660   35        1  \n",
      "9                     0.580   24        0  \n",
      "Outcome\n",
      "1    500\n",
      "0    500\n",
      "Name: count, dtype: int64\n"
     ]
    }
   ],
   "source": [
    "majority_df= diabetes_data[diabetes_data[\"Outcome\"]==0]\n",
    "minority_df= diabetes_data[diabetes_data[\"Outcome\"]==1]\n",
    "\n",
    "minority_upsample= resample(minority_df,\n",
    "                           replace=True,\n",
    "                           n_samples=500,\n",
    "                           random_state=792725)\n",
    "\n",
    "df_balanced=pd.concat([majority_df, minority_upsample])\n",
    "\n",
    "diabetes_data= df_balanced.sample(frac=1, random_state=792725).reset_index(drop= True)\n",
    "\n",
    "print(diabetes_data.head(10))\n",
    "print(diabetes_data[\"Outcome\"].value_counts())"
   ]
  },
  {
   "cell_type": "code",
   "execution_count": 16,
   "metadata": {
    "execution": {
     "iopub.execute_input": "2025-02-09T14:02:51.516433Z",
     "iopub.status.busy": "2025-02-09T14:02:51.516041Z",
     "iopub.status.idle": "2025-02-09T14:02:51.532704Z",
     "shell.execute_reply": "2025-02-09T14:02:51.531682Z",
     "shell.execute_reply.started": "2025-02-09T14:02:51.516392Z"
    },
    "trusted": true
   },
   "outputs": [
    {
     "data": {
      "text/html": [
       "<div>\n",
       "<style scoped>\n",
       "    .dataframe tbody tr th:only-of-type {\n",
       "        vertical-align: middle;\n",
       "    }\n",
       "\n",
       "    .dataframe tbody tr th {\n",
       "        vertical-align: top;\n",
       "    }\n",
       "\n",
       "    .dataframe thead th {\n",
       "        text-align: right;\n",
       "    }\n",
       "</style>\n",
       "<table border=\"1\" class=\"dataframe\">\n",
       "  <thead>\n",
       "    <tr style=\"text-align: right;\">\n",
       "      <th></th>\n",
       "      <th>Pregnancies</th>\n",
       "      <th>Glucose</th>\n",
       "      <th>BloodPressure</th>\n",
       "      <th>SkinThickness</th>\n",
       "      <th>Insulin</th>\n",
       "      <th>BMI</th>\n",
       "      <th>DiabetesPedigreeFunction</th>\n",
       "      <th>Age</th>\n",
       "    </tr>\n",
       "    <tr>\n",
       "      <th>Outcome</th>\n",
       "      <th></th>\n",
       "      <th></th>\n",
       "      <th></th>\n",
       "      <th></th>\n",
       "      <th></th>\n",
       "      <th></th>\n",
       "      <th></th>\n",
       "      <th></th>\n",
       "    </tr>\n",
       "  </thead>\n",
       "  <tbody>\n",
       "    <tr>\n",
       "      <th>0</th>\n",
       "      <td>3.298</td>\n",
       "      <td>110.682</td>\n",
       "      <td>70.920</td>\n",
       "      <td>27.726</td>\n",
       "      <td>127.792</td>\n",
       "      <td>30.8856</td>\n",
       "      <td>0.429734</td>\n",
       "      <td>31.190</td>\n",
       "    </tr>\n",
       "    <tr>\n",
       "      <th>1</th>\n",
       "      <td>4.658</td>\n",
       "      <td>142.500</td>\n",
       "      <td>75.594</td>\n",
       "      <td>31.942</td>\n",
       "      <td>169.878</td>\n",
       "      <td>35.4682</td>\n",
       "      <td>0.544742</td>\n",
       "      <td>37.494</td>\n",
       "    </tr>\n",
       "  </tbody>\n",
       "</table>\n",
       "</div>"
      ],
      "text/plain": [
       "         Pregnancies  Glucose  BloodPressure  SkinThickness  Insulin      BMI  \\\n",
       "Outcome                                                                         \n",
       "0              3.298  110.682         70.920         27.726  127.792  30.8856   \n",
       "1              4.658  142.500         75.594         31.942  169.878  35.4682   \n",
       "\n",
       "         DiabetesPedigreeFunction     Age  \n",
       "Outcome                                    \n",
       "0                        0.429734  31.190  \n",
       "1                        0.544742  37.494  "
      ]
     },
     "execution_count": 16,
     "metadata": {},
     "output_type": "execute_result"
    }
   ],
   "source": [
    "diabetes_data.groupby(\"Outcome\").mean()"
   ]
  },
  {
   "cell_type": "code",
   "execution_count": 17,
   "metadata": {
    "execution": {
     "iopub.execute_input": "2025-02-09T14:02:51.533900Z",
     "iopub.status.busy": "2025-02-09T14:02:51.533638Z",
     "iopub.status.idle": "2025-02-09T14:02:51.552050Z",
     "shell.execute_reply": "2025-02-09T14:02:51.550708Z",
     "shell.execute_reply.started": "2025-02-09T14:02:51.533876Z"
    },
    "trusted": true
   },
   "outputs": [
    {
     "data": {
      "text/plain": [
       "(1000, 8)"
      ]
     },
     "execution_count": 17,
     "metadata": {},
     "output_type": "execute_result"
    }
   ],
   "source": [
    "x= diabetes_data.drop(columns=\"Outcome\", axis=0)\n",
    "x.shape"
   ]
  },
  {
   "cell_type": "code",
   "execution_count": 18,
   "metadata": {
    "execution": {
     "iopub.execute_input": "2025-02-09T14:02:51.553294Z",
     "iopub.status.busy": "2025-02-09T14:02:51.553006Z",
     "iopub.status.idle": "2025-02-09T14:02:51.569340Z",
     "shell.execute_reply": "2025-02-09T14:02:51.568057Z",
     "shell.execute_reply.started": "2025-02-09T14:02:51.553268Z"
    },
    "trusted": true
   },
   "outputs": [],
   "source": [
    "y=diabetes_data[\"Outcome\"]"
   ]
  },
  {
   "cell_type": "markdown",
   "metadata": {},
   "source": [
    "### Step 7: Splitting Data into Training and Testing Sets  \n",
    "- **Why split the dataset?**  \n",
    "  - Training Set → Used to train the model.  \n",
    "  - Testing Set → Used to evaluate the model’s performance on unseen data.  \n",
    "\n",
    "- **How does this help?**  \n",
    "  ✅ Prevents overfitting (memorizing training data instead of generalizing).  \n",
    "  ✅ Ensures the model performs well on new patient data.  \n",
    "\n",
    "- **Typical split ratio:** 80% training / 20% testing using `train_test_split()` from scikit-learn.  \n"
   ]
  },
  {
   "cell_type": "code",
   "execution_count": 19,
   "metadata": {
    "execution": {
     "iopub.execute_input": "2025-02-09T14:02:51.570986Z",
     "iopub.status.busy": "2025-02-09T14:02:51.570553Z",
     "iopub.status.idle": "2025-02-09T14:02:51.590805Z",
     "shell.execute_reply": "2025-02-09T14:02:51.589695Z",
     "shell.execute_reply.started": "2025-02-09T14:02:51.570904Z"
    },
    "trusted": true
   },
   "outputs": [],
   "source": [
    "x_train, x_test, y_train, y_test= train_test_split(x, y, train_size=0.85, random_state=14)"
   ]
  },
  {
   "cell_type": "code",
   "execution_count": 20,
   "metadata": {
    "execution": {
     "iopub.execute_input": "2025-02-09T14:02:51.592447Z",
     "iopub.status.busy": "2025-02-09T14:02:51.592038Z",
     "iopub.status.idle": "2025-02-09T14:02:51.610626Z",
     "shell.execute_reply": "2025-02-09T14:02:51.609405Z",
     "shell.execute_reply.started": "2025-02-09T14:02:51.592416Z"
    },
    "trusted": true
   },
   "outputs": [
    {
     "data": {
      "text/plain": [
       "(850, 8)"
      ]
     },
     "execution_count": 20,
     "metadata": {},
     "output_type": "execute_result"
    }
   ],
   "source": [
    "x_train.shape"
   ]
  },
  {
   "cell_type": "markdown",
   "metadata": {},
   "source": [
    "### Step 9: Training the Machine Learning Model  \n",
    "We train multiple classification models and compare their performances:  \n",
    "\n",
    "- **Logistic Regression** → Simple, interpretable, good for linear data.  \n",
    "- **Random Forest** → Handles non-linearity well, resistant to overfitting.  \n",
    "- **SVM (Support Vector Machine)** → Works well in high-dimensional space.  \n",
    "\n",
    "- **Why multiple models?**  \n",
    "  ✅ Different algorithms work better for different datasets.  \n",
    "  ✅ Comparing models helps choose the best-performing one.  \n",
    "\n",
    "We use `.fit()` to train each model on the training data.\n"
   ]
  },
  {
   "cell_type": "code",
   "execution_count": 21,
   "metadata": {
    "execution": {
     "iopub.execute_input": "2025-02-09T14:02:51.612249Z",
     "iopub.status.busy": "2025-02-09T14:02:51.611843Z",
     "iopub.status.idle": "2025-02-09T14:02:51.866630Z",
     "shell.execute_reply": "2025-02-09T14:02:51.865702Z",
     "shell.execute_reply.started": "2025-02-09T14:02:51.612216Z"
    },
    "trusted": true
   },
   "outputs": [
    {
     "data": {
      "text/html": [
       "<style>#sk-container-id-1 {color: black;}#sk-container-id-1 pre{padding: 0;}#sk-container-id-1 div.sk-toggleable {background-color: white;}#sk-container-id-1 label.sk-toggleable__label {cursor: pointer;display: block;width: 100%;margin-bottom: 0;padding: 0.3em;box-sizing: border-box;text-align: center;}#sk-container-id-1 label.sk-toggleable__label-arrow:before {content: \"▸\";float: left;margin-right: 0.25em;color: #696969;}#sk-container-id-1 label.sk-toggleable__label-arrow:hover:before {color: black;}#sk-container-id-1 div.sk-estimator:hover label.sk-toggleable__label-arrow:before {color: black;}#sk-container-id-1 div.sk-toggleable__content {max-height: 0;max-width: 0;overflow: hidden;text-align: left;background-color: #f0f8ff;}#sk-container-id-1 div.sk-toggleable__content pre {margin: 0.2em;color: black;border-radius: 0.25em;background-color: #f0f8ff;}#sk-container-id-1 input.sk-toggleable__control:checked~div.sk-toggleable__content {max-height: 200px;max-width: 100%;overflow: auto;}#sk-container-id-1 input.sk-toggleable__control:checked~label.sk-toggleable__label-arrow:before {content: \"▾\";}#sk-container-id-1 div.sk-estimator input.sk-toggleable__control:checked~label.sk-toggleable__label {background-color: #d4ebff;}#sk-container-id-1 div.sk-label input.sk-toggleable__control:checked~label.sk-toggleable__label {background-color: #d4ebff;}#sk-container-id-1 input.sk-hidden--visually {border: 0;clip: rect(1px 1px 1px 1px);clip: rect(1px, 1px, 1px, 1px);height: 1px;margin: -1px;overflow: hidden;padding: 0;position: absolute;width: 1px;}#sk-container-id-1 div.sk-estimator {font-family: monospace;background-color: #f0f8ff;border: 1px dotted black;border-radius: 0.25em;box-sizing: border-box;margin-bottom: 0.5em;}#sk-container-id-1 div.sk-estimator:hover {background-color: #d4ebff;}#sk-container-id-1 div.sk-parallel-item::after {content: \"\";width: 100%;border-bottom: 1px solid gray;flex-grow: 1;}#sk-container-id-1 div.sk-label:hover label.sk-toggleable__label {background-color: #d4ebff;}#sk-container-id-1 div.sk-serial::before {content: \"\";position: absolute;border-left: 1px solid gray;box-sizing: border-box;top: 0;bottom: 0;left: 50%;z-index: 0;}#sk-container-id-1 div.sk-serial {display: flex;flex-direction: column;align-items: center;background-color: white;padding-right: 0.2em;padding-left: 0.2em;position: relative;}#sk-container-id-1 div.sk-item {position: relative;z-index: 1;}#sk-container-id-1 div.sk-parallel {display: flex;align-items: stretch;justify-content: center;background-color: white;position: relative;}#sk-container-id-1 div.sk-item::before, #sk-container-id-1 div.sk-parallel-item::before {content: \"\";position: absolute;border-left: 1px solid gray;box-sizing: border-box;top: 0;bottom: 0;left: 50%;z-index: -1;}#sk-container-id-1 div.sk-parallel-item {display: flex;flex-direction: column;z-index: 1;position: relative;background-color: white;}#sk-container-id-1 div.sk-parallel-item:first-child::after {align-self: flex-end;width: 50%;}#sk-container-id-1 div.sk-parallel-item:last-child::after {align-self: flex-start;width: 50%;}#sk-container-id-1 div.sk-parallel-item:only-child::after {width: 0;}#sk-container-id-1 div.sk-dashed-wrapped {border: 1px dashed gray;margin: 0 0.4em 0.5em 0.4em;box-sizing: border-box;padding-bottom: 0.4em;background-color: white;}#sk-container-id-1 div.sk-label label {font-family: monospace;font-weight: bold;display: inline-block;line-height: 1.2em;}#sk-container-id-1 div.sk-label-container {text-align: center;}#sk-container-id-1 div.sk-container {/* jupyter's `normalize.less` sets `[hidden] { display: none; }` but bootstrap.min.css set `[hidden] { display: none !important; }` so we also need the `!important` here to be able to override the default hidden behavior on the sphinx rendered scikit-learn.org. See: https://github.com/scikit-learn/scikit-learn/issues/21755 */display: inline-block !important;position: relative;}#sk-container-id-1 div.sk-text-repr-fallback {display: none;}</style><div id=\"sk-container-id-1\" class=\"sk-top-container\"><div class=\"sk-text-repr-fallback\"><pre>RandomForestClassifier(random_state=42)</pre><b>In a Jupyter environment, please rerun this cell to show the HTML representation or trust the notebook. <br />On GitHub, the HTML representation is unable to render, please try loading this page with nbviewer.org.</b></div><div class=\"sk-container\" hidden><div class=\"sk-item\"><div class=\"sk-estimator sk-toggleable\"><input class=\"sk-toggleable__control sk-hidden--visually\" id=\"sk-estimator-id-1\" type=\"checkbox\" checked><label for=\"sk-estimator-id-1\" class=\"sk-toggleable__label sk-toggleable__label-arrow\">RandomForestClassifier</label><div class=\"sk-toggleable__content\"><pre>RandomForestClassifier(random_state=42)</pre></div></div></div></div></div>"
      ],
      "text/plain": [
       "RandomForestClassifier(random_state=42)"
      ]
     },
     "execution_count": 21,
     "metadata": {},
     "output_type": "execute_result"
    }
   ],
   "source": [
    "rf_model = RandomForestClassifier(n_estimators=100, random_state=42)  \n",
    "rf_model.fit(x_train, y_train)"
   ]
  },
  {
   "cell_type": "code",
   "execution_count": 22,
   "metadata": {
    "execution": {
     "iopub.execute_input": "2025-02-09T14:02:51.867771Z",
     "iopub.status.busy": "2025-02-09T14:02:51.867506Z",
     "iopub.status.idle": "2025-02-09T14:02:54.594664Z",
     "shell.execute_reply": "2025-02-09T14:02:54.593442Z",
     "shell.execute_reply.started": "2025-02-09T14:02:51.867748Z"
    },
    "trusted": true
   },
   "outputs": [
    {
     "data": {
      "text/html": [
       "<style>#sk-container-id-2 {color: black;}#sk-container-id-2 pre{padding: 0;}#sk-container-id-2 div.sk-toggleable {background-color: white;}#sk-container-id-2 label.sk-toggleable__label {cursor: pointer;display: block;width: 100%;margin-bottom: 0;padding: 0.3em;box-sizing: border-box;text-align: center;}#sk-container-id-2 label.sk-toggleable__label-arrow:before {content: \"▸\";float: left;margin-right: 0.25em;color: #696969;}#sk-container-id-2 label.sk-toggleable__label-arrow:hover:before {color: black;}#sk-container-id-2 div.sk-estimator:hover label.sk-toggleable__label-arrow:before {color: black;}#sk-container-id-2 div.sk-toggleable__content {max-height: 0;max-width: 0;overflow: hidden;text-align: left;background-color: #f0f8ff;}#sk-container-id-2 div.sk-toggleable__content pre {margin: 0.2em;color: black;border-radius: 0.25em;background-color: #f0f8ff;}#sk-container-id-2 input.sk-toggleable__control:checked~div.sk-toggleable__content {max-height: 200px;max-width: 100%;overflow: auto;}#sk-container-id-2 input.sk-toggleable__control:checked~label.sk-toggleable__label-arrow:before {content: \"▾\";}#sk-container-id-2 div.sk-estimator input.sk-toggleable__control:checked~label.sk-toggleable__label {background-color: #d4ebff;}#sk-container-id-2 div.sk-label input.sk-toggleable__control:checked~label.sk-toggleable__label {background-color: #d4ebff;}#sk-container-id-2 input.sk-hidden--visually {border: 0;clip: rect(1px 1px 1px 1px);clip: rect(1px, 1px, 1px, 1px);height: 1px;margin: -1px;overflow: hidden;padding: 0;position: absolute;width: 1px;}#sk-container-id-2 div.sk-estimator {font-family: monospace;background-color: #f0f8ff;border: 1px dotted black;border-radius: 0.25em;box-sizing: border-box;margin-bottom: 0.5em;}#sk-container-id-2 div.sk-estimator:hover {background-color: #d4ebff;}#sk-container-id-2 div.sk-parallel-item::after {content: \"\";width: 100%;border-bottom: 1px solid gray;flex-grow: 1;}#sk-container-id-2 div.sk-label:hover label.sk-toggleable__label {background-color: #d4ebff;}#sk-container-id-2 div.sk-serial::before {content: \"\";position: absolute;border-left: 1px solid gray;box-sizing: border-box;top: 0;bottom: 0;left: 50%;z-index: 0;}#sk-container-id-2 div.sk-serial {display: flex;flex-direction: column;align-items: center;background-color: white;padding-right: 0.2em;padding-left: 0.2em;position: relative;}#sk-container-id-2 div.sk-item {position: relative;z-index: 1;}#sk-container-id-2 div.sk-parallel {display: flex;align-items: stretch;justify-content: center;background-color: white;position: relative;}#sk-container-id-2 div.sk-item::before, #sk-container-id-2 div.sk-parallel-item::before {content: \"\";position: absolute;border-left: 1px solid gray;box-sizing: border-box;top: 0;bottom: 0;left: 50%;z-index: -1;}#sk-container-id-2 div.sk-parallel-item {display: flex;flex-direction: column;z-index: 1;position: relative;background-color: white;}#sk-container-id-2 div.sk-parallel-item:first-child::after {align-self: flex-end;width: 50%;}#sk-container-id-2 div.sk-parallel-item:last-child::after {align-self: flex-start;width: 50%;}#sk-container-id-2 div.sk-parallel-item:only-child::after {width: 0;}#sk-container-id-2 div.sk-dashed-wrapped {border: 1px dashed gray;margin: 0 0.4em 0.5em 0.4em;box-sizing: border-box;padding-bottom: 0.4em;background-color: white;}#sk-container-id-2 div.sk-label label {font-family: monospace;font-weight: bold;display: inline-block;line-height: 1.2em;}#sk-container-id-2 div.sk-label-container {text-align: center;}#sk-container-id-2 div.sk-container {/* jupyter's `normalize.less` sets `[hidden] { display: none; }` but bootstrap.min.css set `[hidden] { display: none !important; }` so we also need the `!important` here to be able to override the default hidden behavior on the sphinx rendered scikit-learn.org. See: https://github.com/scikit-learn/scikit-learn/issues/21755 */display: inline-block !important;position: relative;}#sk-container-id-2 div.sk-text-repr-fallback {display: none;}</style><div id=\"sk-container-id-2\" class=\"sk-top-container\"><div class=\"sk-text-repr-fallback\"><pre>SVC(kernel=&#x27;linear&#x27;)</pre><b>In a Jupyter environment, please rerun this cell to show the HTML representation or trust the notebook. <br />On GitHub, the HTML representation is unable to render, please try loading this page with nbviewer.org.</b></div><div class=\"sk-container\" hidden><div class=\"sk-item\"><div class=\"sk-estimator sk-toggleable\"><input class=\"sk-toggleable__control sk-hidden--visually\" id=\"sk-estimator-id-2\" type=\"checkbox\" checked><label for=\"sk-estimator-id-2\" class=\"sk-toggleable__label sk-toggleable__label-arrow\">SVC</label><div class=\"sk-toggleable__content\"><pre>SVC(kernel=&#x27;linear&#x27;)</pre></div></div></div></div></div>"
      ],
      "text/plain": [
       "SVC(kernel='linear')"
      ]
     },
     "execution_count": 22,
     "metadata": {},
     "output_type": "execute_result"
    }
   ],
   "source": [
    "svc_model= svm.SVC(kernel='linear')\n",
    "svc_model.fit(x_train, y_train)"
   ]
  },
  {
   "cell_type": "code",
   "execution_count": 23,
   "metadata": {
    "execution": {
     "iopub.execute_input": "2025-02-09T14:02:54.596039Z",
     "iopub.status.busy": "2025-02-09T14:02:54.595693Z",
     "iopub.status.idle": "2025-02-09T14:02:54.642356Z",
     "shell.execute_reply": "2025-02-09T14:02:54.641026Z",
     "shell.execute_reply.started": "2025-02-09T14:02:54.596007Z"
    },
    "trusted": true
   },
   "outputs": [
    {
     "data": {
      "text/html": [
       "<style>#sk-container-id-3 {color: black;}#sk-container-id-3 pre{padding: 0;}#sk-container-id-3 div.sk-toggleable {background-color: white;}#sk-container-id-3 label.sk-toggleable__label {cursor: pointer;display: block;width: 100%;margin-bottom: 0;padding: 0.3em;box-sizing: border-box;text-align: center;}#sk-container-id-3 label.sk-toggleable__label-arrow:before {content: \"▸\";float: left;margin-right: 0.25em;color: #696969;}#sk-container-id-3 label.sk-toggleable__label-arrow:hover:before {color: black;}#sk-container-id-3 div.sk-estimator:hover label.sk-toggleable__label-arrow:before {color: black;}#sk-container-id-3 div.sk-toggleable__content {max-height: 0;max-width: 0;overflow: hidden;text-align: left;background-color: #f0f8ff;}#sk-container-id-3 div.sk-toggleable__content pre {margin: 0.2em;color: black;border-radius: 0.25em;background-color: #f0f8ff;}#sk-container-id-3 input.sk-toggleable__control:checked~div.sk-toggleable__content {max-height: 200px;max-width: 100%;overflow: auto;}#sk-container-id-3 input.sk-toggleable__control:checked~label.sk-toggleable__label-arrow:before {content: \"▾\";}#sk-container-id-3 div.sk-estimator input.sk-toggleable__control:checked~label.sk-toggleable__label {background-color: #d4ebff;}#sk-container-id-3 div.sk-label input.sk-toggleable__control:checked~label.sk-toggleable__label {background-color: #d4ebff;}#sk-container-id-3 input.sk-hidden--visually {border: 0;clip: rect(1px 1px 1px 1px);clip: rect(1px, 1px, 1px, 1px);height: 1px;margin: -1px;overflow: hidden;padding: 0;position: absolute;width: 1px;}#sk-container-id-3 div.sk-estimator {font-family: monospace;background-color: #f0f8ff;border: 1px dotted black;border-radius: 0.25em;box-sizing: border-box;margin-bottom: 0.5em;}#sk-container-id-3 div.sk-estimator:hover {background-color: #d4ebff;}#sk-container-id-3 div.sk-parallel-item::after {content: \"\";width: 100%;border-bottom: 1px solid gray;flex-grow: 1;}#sk-container-id-3 div.sk-label:hover label.sk-toggleable__label {background-color: #d4ebff;}#sk-container-id-3 div.sk-serial::before {content: \"\";position: absolute;border-left: 1px solid gray;box-sizing: border-box;top: 0;bottom: 0;left: 50%;z-index: 0;}#sk-container-id-3 div.sk-serial {display: flex;flex-direction: column;align-items: center;background-color: white;padding-right: 0.2em;padding-left: 0.2em;position: relative;}#sk-container-id-3 div.sk-item {position: relative;z-index: 1;}#sk-container-id-3 div.sk-parallel {display: flex;align-items: stretch;justify-content: center;background-color: white;position: relative;}#sk-container-id-3 div.sk-item::before, #sk-container-id-3 div.sk-parallel-item::before {content: \"\";position: absolute;border-left: 1px solid gray;box-sizing: border-box;top: 0;bottom: 0;left: 50%;z-index: -1;}#sk-container-id-3 div.sk-parallel-item {display: flex;flex-direction: column;z-index: 1;position: relative;background-color: white;}#sk-container-id-3 div.sk-parallel-item:first-child::after {align-self: flex-end;width: 50%;}#sk-container-id-3 div.sk-parallel-item:last-child::after {align-self: flex-start;width: 50%;}#sk-container-id-3 div.sk-parallel-item:only-child::after {width: 0;}#sk-container-id-3 div.sk-dashed-wrapped {border: 1px dashed gray;margin: 0 0.4em 0.5em 0.4em;box-sizing: border-box;padding-bottom: 0.4em;background-color: white;}#sk-container-id-3 div.sk-label label {font-family: monospace;font-weight: bold;display: inline-block;line-height: 1.2em;}#sk-container-id-3 div.sk-label-container {text-align: center;}#sk-container-id-3 div.sk-container {/* jupyter's `normalize.less` sets `[hidden] { display: none; }` but bootstrap.min.css set `[hidden] { display: none !important; }` so we also need the `!important` here to be able to override the default hidden behavior on the sphinx rendered scikit-learn.org. See: https://github.com/scikit-learn/scikit-learn/issues/21755 */display: inline-block !important;position: relative;}#sk-container-id-3 div.sk-text-repr-fallback {display: none;}</style><div id=\"sk-container-id-3\" class=\"sk-top-container\"><div class=\"sk-text-repr-fallback\"><pre>LogisticRegression(max_iter=800, random_state=792725)</pre><b>In a Jupyter environment, please rerun this cell to show the HTML representation or trust the notebook. <br />On GitHub, the HTML representation is unable to render, please try loading this page with nbviewer.org.</b></div><div class=\"sk-container\" hidden><div class=\"sk-item\"><div class=\"sk-estimator sk-toggleable\"><input class=\"sk-toggleable__control sk-hidden--visually\" id=\"sk-estimator-id-3\" type=\"checkbox\" checked><label for=\"sk-estimator-id-3\" class=\"sk-toggleable__label sk-toggleable__label-arrow\">LogisticRegression</label><div class=\"sk-toggleable__content\"><pre>LogisticRegression(max_iter=800, random_state=792725)</pre></div></div></div></div></div>"
      ],
      "text/plain": [
       "LogisticRegression(max_iter=800, random_state=792725)"
      ]
     },
     "execution_count": 23,
     "metadata": {},
     "output_type": "execute_result"
    }
   ],
   "source": [
    "logr_model= LogisticRegression(random_state=792725, max_iter=800)\n",
    "logr_model.fit(x_train, y_train)"
   ]
  },
  {
   "cell_type": "markdown",
   "metadata": {},
   "source": [
    "### Step 10: Making Predictions  \n",
    "- Once the model is trained, we use `.predict()` to classify new patient data.  \n",
    "- The model predicts whether a person is **diabetic (1)** or **non-diabetic (0)** based on the input features.  \n"
   ]
  },
  {
   "cell_type": "code",
   "execution_count": 24,
   "metadata": {
    "execution": {
     "iopub.execute_input": "2025-02-09T14:02:54.643606Z",
     "iopub.status.busy": "2025-02-09T14:02:54.643306Z",
     "iopub.status.idle": "2025-02-09T14:02:54.660941Z",
     "shell.execute_reply": "2025-02-09T14:02:54.659782Z",
     "shell.execute_reply.started": "2025-02-09T14:02:54.643581Z"
    },
    "trusted": true
   },
   "outputs": [],
   "source": [
    "y_pred_rf= rf_model.predict(x_test)"
   ]
  },
  {
   "cell_type": "code",
   "execution_count": 25,
   "metadata": {
    "execution": {
     "iopub.execute_input": "2025-02-09T14:02:54.662875Z",
     "iopub.status.busy": "2025-02-09T14:02:54.662422Z",
     "iopub.status.idle": "2025-02-09T14:02:54.676145Z",
     "shell.execute_reply": "2025-02-09T14:02:54.674836Z",
     "shell.execute_reply.started": "2025-02-09T14:02:54.662824Z"
    },
    "trusted": true
   },
   "outputs": [],
   "source": [
    "y_pred_svc= svc_model.predict(x_test)"
   ]
  },
  {
   "cell_type": "code",
   "execution_count": 26,
   "metadata": {
    "execution": {
     "iopub.execute_input": "2025-02-09T14:02:54.677656Z",
     "iopub.status.busy": "2025-02-09T14:02:54.677336Z",
     "iopub.status.idle": "2025-02-09T14:02:54.686328Z",
     "shell.execute_reply": "2025-02-09T14:02:54.685273Z",
     "shell.execute_reply.started": "2025-02-09T14:02:54.677616Z"
    },
    "trusted": true
   },
   "outputs": [],
   "source": [
    "y_pred_logr= logr_model.predict(x_test)"
   ]
  },
  {
   "cell_type": "markdown",
   "metadata": {},
   "source": [
    "### Step 11: Results and Model Evaluation  \n",
    "After training the Random Forest model, we evaluate its performance using multiple metrics:  \n",
    "\n",
    "1️⃣ **Accuracy Score** → Measures how many predictions were correct overall.  \n",
    "2️⃣ **Classification Report** → Provides **Precision, Recall, and F1-score** for both diabetic and non-diabetic classes.  \n",
    "3️⃣ **Confusion Matrix** → Shows the number of **True Positives, False Positives, True Negatives, and False Negatives**.  \n",
    "\n",
    "#### **Interpreting the Results**  \n",
    "- **High Accuracy** ✅ → Indicates the model is performing well on the test data.  \n",
    "- **Balanced Precision & Recall** ✅ → Suggests the model does not favor one class too much.  \n",
    "- **Confusion Matrix** 📊 → Helps us analyze whether the model is misclassifying certain cases.  \n",
    "\n",
    "We aim for a **high recall in the diabetic class (1)** to **reduce false negatives**, as failing to detect diabetes can have serious consequences.  \n"
   ]
  },
  {
   "cell_type": "markdown",
   "metadata": {},
   "source": [
    "#### 1.Random Forest Classifier"
   ]
  },
  {
   "cell_type": "code",
   "execution_count": 27,
   "metadata": {
    "execution": {
     "iopub.execute_input": "2025-02-09T14:02:54.687959Z",
     "iopub.status.busy": "2025-02-09T14:02:54.687541Z",
     "iopub.status.idle": "2025-02-09T14:02:54.717293Z",
     "shell.execute_reply": "2025-02-09T14:02:54.716266Z",
     "shell.execute_reply.started": "2025-02-09T14:02:54.687905Z"
    },
    "trusted": true
   },
   "outputs": [
    {
     "name": "stdout",
     "output_type": "stream",
     "text": [
      "Accuracy: 0.8800\n",
      "Classification Report:\n",
      "               precision    recall  f1-score   support\n",
      "\n",
      "           0       0.90      0.85      0.88        75\n",
      "           1       0.86      0.91      0.88        75\n",
      "\n",
      "    accuracy                           0.88       150\n",
      "   macro avg       0.88      0.88      0.88       150\n",
      "weighted avg       0.88      0.88      0.88       150\n",
      "\n",
      "Confusion Matrix:\n",
      " [[64 11]\n",
      " [ 7 68]]\n"
     ]
    }
   ],
   "source": [
    "accuracy = accuracy_score(y_test, y_pred_rf)\n",
    "print(f\"Accuracy: {accuracy:.4f}\")\n",
    "print(\"Classification Report:\\n\", classification_report(y_test, y_pred_rf))\n",
    "print(\"Confusion Matrix:\\n\", confusion_matrix(y_test, y_pred_rf))"
   ]
  },
  {
   "cell_type": "code",
   "execution_count": 28,
   "metadata": {
    "execution": {
     "iopub.execute_input": "2025-02-09T14:02:54.718899Z",
     "iopub.status.busy": "2025-02-09T14:02:54.718503Z",
     "iopub.status.idle": "2025-02-09T14:02:55.085370Z",
     "shell.execute_reply": "2025-02-09T14:02:55.084369Z",
     "shell.execute_reply.started": "2025-02-09T14:02:54.718857Z"
    },
    "trusted": true
   },
   "outputs": [
    {
     "data": {
      "text/plain": [
       "<sklearn.metrics._plot.confusion_matrix.ConfusionMatrixDisplay at 0x1efaee4d790>"
      ]
     },
     "execution_count": 28,
     "metadata": {},
     "output_type": "execute_result"
    },
    {
     "data": {
      "image/png": "[encoded data removed]",
      "text/plain": [
       "<Figure size 640x480 with 2 Axes>"
      ]
     },
     "metadata": {},
     "output_type": "display_data"
    }
   ],
   "source": [
    "cm_rf= confusion_matrix(y_test, y_pred_rf)\n",
    "disp_rf= ConfusionMatrixDisplay(confusion_matrix= cm_rf, display_labels=[\"Non-Diabetic\", \"Diabetic\"])\n",
    "disp_rf.plot(cmap=\"Greens\", values_format='d')"
   ]
  },
  {
   "cell_type": "markdown",
   "metadata": {},
   "source": [
    "#### 2. Support Vector Machine"
   ]
  },
  {
   "cell_type": "code",
   "execution_count": 29,
   "metadata": {
    "execution": {
     "iopub.execute_input": "2025-02-09T14:02:55.086621Z",
     "iopub.status.busy": "2025-02-09T14:02:55.086333Z",
     "iopub.status.idle": "2025-02-09T14:02:55.106127Z",
     "shell.execute_reply": "2025-02-09T14:02:55.105041Z",
     "shell.execute_reply.started": "2025-02-09T14:02:55.086596Z"
    },
    "trusted": true
   },
   "outputs": [
    {
     "name": "stdout",
     "output_type": "stream",
     "text": [
      "Accuracy: 0.7933\n",
      "Classification Report:\n",
      "               precision    recall  f1-score   support\n",
      "\n",
      "           0       0.77      0.84      0.80        75\n",
      "           1       0.82      0.75      0.78        75\n",
      "\n",
      "    accuracy                           0.79       150\n",
      "   macro avg       0.80      0.79      0.79       150\n",
      "weighted avg       0.80      0.79      0.79       150\n",
      "\n",
      "Confusion Matrix:\n",
      " [[63 12]\n",
      " [19 56]]\n"
     ]
    }
   ],
   "source": [
    "accuracy = accuracy_score(y_test, y_pred_svc)\n",
    "print(f\"Accuracy: {accuracy:.4f}\")\n",
    "print(\"Classification Report:\\n\", classification_report(y_test, y_pred_svc))\n",
    "print(\"Confusion Matrix:\\n\", confusion_matrix(y_test, y_pred_svc))"
   ]
  },
  {
   "cell_type": "code",
   "execution_count": 30,
   "metadata": {
    "execution": {
     "iopub.execute_input": "2025-02-09T14:02:55.107831Z",
     "iopub.status.busy": "2025-02-09T14:02:55.107527Z",
     "iopub.status.idle": "2025-02-09T14:02:55.343667Z",
     "shell.execute_reply": "2025-02-09T14:02:55.342568Z",
     "shell.execute_reply.started": "2025-02-09T14:02:55.107805Z"
    },
    "trusted": true
   },
   "outputs": [
    {
     "data": {
      "text/plain": [
       "<sklearn.metrics._plot.confusion_matrix.ConfusionMatrixDisplay at 0x1efaea53890>"
      ]
     },
     "execution_count": 30,
     "metadata": {},
     "output_type": "execute_result"
    },
    {
     "data": {
      "image/png": "[encoded data removed]",
      "text/plain": [
       "<Figure size 640x480 with 2 Axes>"
      ]
     },
     "metadata": {},
     "output_type": "display_data"
    }
   ],
   "source": [
    "cm_svc = confusion_matrix(y_test, y_pred_svc)\n",
    "disp_svc = ConfusionMatrixDisplay(confusion_matrix=cm_svc, display_labels=[\"Non-Diabetic\", \"Diabetic\"])\n",
    "disp_svc.plot(cmap=\"Blues\", values_format='d')"
   ]
  },
  {
   "cell_type": "markdown",
   "metadata": {},
   "source": [
    "#### 3. Logistic Regression"
   ]
  },
  {
   "cell_type": "code",
   "execution_count": 31,
   "metadata": {
    "execution": {
     "iopub.execute_input": "2025-02-09T14:02:55.345187Z",
     "iopub.status.busy": "2025-02-09T14:02:55.344784Z",
     "iopub.status.idle": "2025-02-09T14:02:55.365499Z",
     "shell.execute_reply": "2025-02-09T14:02:55.364293Z",
     "shell.execute_reply.started": "2025-02-09T14:02:55.345152Z"
    },
    "trusted": true
   },
   "outputs": [
    {
     "name": "stdout",
     "output_type": "stream",
     "text": [
      "Accuracy: 0.7733\n",
      "Classification Report:\n",
      "               precision    recall  f1-score   support\n",
      "\n",
      "           0       0.75      0.81      0.78        75\n",
      "           1       0.80      0.73      0.76        75\n",
      "\n",
      "    accuracy                           0.77       150\n",
      "   macro avg       0.78      0.77      0.77       150\n",
      "weighted avg       0.78      0.77      0.77       150\n",
      "\n",
      "Confusion Matrix:\n",
      " [[61 14]\n",
      " [20 55]]\n"
     ]
    }
   ],
   "source": [
    "accuracy = accuracy_score(y_test, y_pred_logr)\n",
    "print(f\"Accuracy: {accuracy:.4f}\")\n",
    "print(\"Classification Report:\\n\", classification_report(y_test, y_pred_logr))\n",
    "print(\"Confusion Matrix:\\n\", confusion_matrix(y_test, y_pred_logr))"
   ]
  },
  {
   "cell_type": "code",
   "execution_count": 32,
   "metadata": {
    "execution": {
     "iopub.execute_input": "2025-02-09T14:02:55.367364Z",
     "iopub.status.busy": "2025-02-09T14:02:55.366917Z",
     "iopub.status.idle": "2025-02-09T14:02:55.617142Z",
     "shell.execute_reply": "2025-02-09T14:02:55.615773Z",
     "shell.execute_reply.started": "2025-02-09T14:02:55.367314Z"
    },
    "trusted": true
   },
   "outputs": [
    {
     "data": {
      "text/plain": [
       "<sklearn.metrics._plot.confusion_matrix.ConfusionMatrixDisplay at 0x1efaee3a5a0>"
      ]
     },
     "execution_count": 32,
     "metadata": {},
     "output_type": "execute_result"
    },
    {
     "data": {
      "image/png": "[encoded data removed]",
      "text/plain": [
       "<Figure size 640x480 with 2 Axes>"
      ]
     },
     "metadata": {},
     "output_type": "display_data"
    }
   ],
   "source": [
    "cm_logr = confusion_matrix(y_test, y_pred_logr)\n",
    "disp_logr = ConfusionMatrixDisplay(confusion_matrix=cm_logr, display_labels=[\"Non-Diabetic\", \"Diabetic\"])\n",
    "disp_logr.plot(cmap=\"Oranges\", values_format='d')"
   ]
  },
  {
   "cell_type": "markdown",
   "metadata": {},
   "source": [
    "### Step 12: Saving the Model as a Pickle File  \n",
    "Once the model is trained and evaluated, we save it as a `.pkl` file so it can be reused without retraining.  \n",
    "\n",
    "#### **Why Save the Model?**  \n",
    "- ✅ **Avoid Retraining** → Saves computation time when deploying the model.  \n",
    "- ✅ **Easy Integration** → The model can be loaded in a **web app** or other projects.  \n",
    "- ✅ **Reusable** → Can be used to make predictions on new patient data.  \n",
    "\n",
    "We use the **pickle** library to serialize the trained model:  "
   ]
  },
  {
   "cell_type": "code",
   "execution_count": 33,
   "metadata": {
    "execution": {
     "iopub.execute_input": "2025-02-09T14:02:55.618814Z",
     "iopub.status.busy": "2025-02-09T14:02:55.618436Z",
     "iopub.status.idle": "2025-02-09T14:02:55.623908Z",
     "shell.execute_reply": "2025-02-09T14:02:55.622834Z",
     "shell.execute_reply.started": "2025-02-09T14:02:55.618781Z"
    },
    "trusted": true
   },
   "outputs": [],
   "source": [
    "file_svc= \"diabetes_prediction_svc.sav\"\n",
    "pickle.dump(svc_model, open(file_svc, \"wb\"))"
   ]
  },
  {
   "cell_type": "code",
   "execution_count": 34,
   "metadata": {
    "execution": {
     "iopub.execute_input": "2025-02-09T14:02:55.625454Z",
     "iopub.status.busy": "2025-02-09T14:02:55.625038Z",
     "iopub.status.idle": "2025-02-09T14:02:55.658022Z",
     "shell.execute_reply": "2025-02-09T14:02:55.656763Z",
     "shell.execute_reply.started": "2025-02-09T14:02:55.625414Z"
    },
    "trusted": true
   },
   "outputs": [],
   "source": [
    "file_rf= \"diabetes_prediction_rf.sav\"\n",
    "pickle.dump(rf_model, open(file_rf, \"wb\"))"
   ]
  },
  {
   "cell_type": "code",
   "execution_count": 35,
   "metadata": {
    "execution": {
     "iopub.execute_input": "2025-02-09T14:02:55.659428Z",
     "iopub.status.busy": "2025-02-09T14:02:55.658865Z",
     "iopub.status.idle": "2025-02-09T14:02:55.665149Z",
     "shell.execute_reply": "2025-02-09T14:02:55.664104Z",
     "shell.execute_reply.started": "2025-02-09T14:02:55.659382Z"
    },
    "trusted": true
   },
   "outputs": [],
   "source": [
    "file_logr= \"diabetes_prediction_logr.sav\"\n",
    "pickle.dump(logr_model, open(file_logr, \"wb\"))"
   ]
  },
  {
   "cell_type": "markdown",
   "metadata": {},
   "source": [
    "### Which is the Best Model?  \n",
    "\n",
    "After training and evaluating multiple models (**Support Vector Classifier, Logistic Regression, and Random Forest**), we compared their performance using:  \n",
    "- **Accuracy**: Measures overall correctness of predictions.  \n",
    "- **Precision & Recall**: Helps assess false positives and false negatives.  \n",
    "- **F1-score**: Balances precision and recall, useful for imbalanced datasets.  \n",
    "- **Confusion Matrix**: Provides insight into how well each model classifies diabetic and non-diabetic patients.  \n",
    "\n",
    "---\n",
    "\n",
    "### **Comparing the Models**  \n",
    "\n",
    "| Model | Accuracy | Precision (Diabetic) | Recall (Diabetic) | F1-score (Diabetic) |\n",
    "|--------|-----------|-----------------|-----------------|------------------|\n",
    "| **Logistic Regression** | 77% | 0.80 | 0.73 | 0.76 |\n",
    "| **Support Vector Classifier (SVC)** | 79% | 0.82 | 0.75 | 0.78 |\n",
    "| **Random Forest (RF)** | **88%** | **0.86** | **0.91** | **0.88** |\n",
    "\n",
    "---\n",
    "\n",
    "### **Why is Random Forest Better?**  \n",
    "\n",
    "✅ **Higher Accuracy (88%)**  \n",
    "- Random Forest achieves the highest accuracy, meaning it makes fewer overall mistakes compared to SVC and Logistic Regression.  \n",
    "\n",
    "✅ **Balanced Precision & Recall**  \n",
    "- The **recall (0.80) for the diabetic class** is better than the other models, meaning it **catches more actual diabetic cases**.  \n",
    "- Unlike Logistic Regression, which has lower recall (0.73), **Random Forest reduces the chances of false negatives** (missing actual diabetes cases).  \n",
    "\n",
    "✅ **More Robust to Outliers & Non-Linearity**  \n",
    "- Random Forest is an **ensemble model**, meaning it combines multiple decision trees to make predictions. This helps it handle **complex patterns** in the dataset better than SVC or Logistic Regression.  \n",
    "\n",
    "✅ **Feature Importance & Interpretability**  \n",
    "- Unlike SVC (which works like a black box), Random Forest allows us to **analyze feature importance**, helping us understand which medical factors contribute the most to diabetes risk.\n"
   ]
  }
 ],
 "metadata": {
  "kaggle": {
   "accelerator": "none",
   "dataSources": [
    {
     "datasetId": 2527538,
     "sourceId": 4289678,
     "sourceType": "datasetVersion"
    }
   ],
   "dockerImageVersionId": 30839,
   "isGpuEnabled": false,
   "isInternetEnabled": false,
   "language": "python",
   "sourceType": "notebook"
  },
  "kernelspec": {
   "display_name": ".env",
   "language": "python",
   "name": "python3"
  },
  "language_info": {
   "codemirror_mode": {
    "name": "ipython",
    "version": 3
   },
   "file_extension": ".py",
   "mimetype": "text/x-python",
   "name": "python",
   "nbconvert_exporter": "python",
   "pygments_lexer": "ipython3",
   "version": "3.12.7"
  }
 },
 "nbformat": 4,
 "nbformat_minor": 4
}
